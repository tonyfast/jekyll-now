{
 "cells": [
  {
   "cell_type": "code",
   "execution_count": 75,
   "metadata": {},
   "outputs": [],
   "source": [
    "import pathlib, nbconvert, pandas, json; from toolz.curried import *\n",
    "\n",
    "for file in [x for x in pathlib.Path('tonyfast').rglob('*.ipynb') if 'checkpoints' not in str(x)]:\n",
    "    print(file)\n",
    "    post = file.stem[0].isnumeric() or file.stem.startswith('test_')\n",
    "    df = pandas.Series(nbconvert.get_exporter('markdown')().from_filename(file), \"code data\".split()).pipe(\n",
    "        lambda df: pandas.concat([df, pandas.Series(df['data'])]))\n",
    "    pathlib.Path('docs', \"_pages _posts\".split()[post]).mkdir(parents=True, exist_ok=True)\n",
    "    pathlib.Path('docs', \"_pages _posts\".split()[post], file.stem).with_suffix('.md').write_text(\n",
    "        F\"---\\n{json.dumps(df['metadata'])}\\n---\\n{df['code']}\"\n",
    "    )"
   ]
  }
 ],
 "metadata": {
  "kernelspec": {
   "display_name": "Python 3",
   "language": "python",
   "name": "python3"
  },
  "language_info": {
   "codemirror_mode": {
    "name": "ipython",
    "version": 3
   },
   "file_extension": ".py",
   "mimetype": "text/x-python",
   "name": "python",
   "nbconvert_exporter": "python",
   "pygments_lexer": "ipython3",
   "version": "3.7.3"
  }
 },
 "nbformat": 4,
 "nbformat_minor": 4
}
