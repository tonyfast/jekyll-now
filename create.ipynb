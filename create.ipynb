{
 "cells": [
  {
   "cell_type": "code",
   "execution_count": 4,
   "metadata": {},
   "outputs": [
    {
     "name": "stdout",
     "output_type": "stream",
     "text": [
      "docs/_posts/2019-09-21-.md\n",
      "docs/_pages/autointeractive.md\n",
      "docs/_posts/test_autointeractive.md\n",
      "docs/_pages/await-gidgethub.md\n",
      "docs/_posts/2019-09-21-.md\n",
      "docs/_posts/2019-09-24-.md\n",
      "docs/_posts/2019-09-25-.md\n",
      "docs/_posts/2019-09-25-notebook-documents.md\n",
      "docs/_pages/jschema.md\n",
      "docs/_posts/test_jschema.md\n",
      "docs/_posts/2019-09-25-notebook-documents.md\n",
      "docs/_posts/2019-09-24-importnb.md\n",
      "docs/_pages/QR.md\n",
      "docs/_posts/2019-09-24-importnb.md\n",
      "docs/_pages/bad .md\n",
      "docs/_pages/demo.md\n",
      "docs/_pages/namespaces.md\n",
      "docs/_pages/rdflib_patch.md\n"
     ]
    }
   ],
   "source": [
    "import pathlib, nbconvert, pandas, json; from toolz.curried import *\n",
    "\n",
    "for file in [x for x in pathlib.Path('tonyfast').rglob('*.ipynb') if 'checkpoints' not in str(x)]:\n",
    "    post = file.stem[0].isnumeric() or file.stem.startswith('test_')\n",
    "    df = pandas.Series(nbconvert.get_exporter('markdown')().from_filename(file), \"code data\".split()).pipe(\n",
    "        lambda df: pandas.concat([df, pandas.Series(df['data'])]))\n",
    "    pathlib.Path('docs', \"_pages _posts\".split()[post]).mkdir(parents=True, exist_ok=True)\n",
    "    pathlib.Path('docs', \"_pages _posts\".split()[post], file.stem).with_suffix('.md').write_text(\n",
    "        F\"---\\n{json.dumps(df['metadata'])}\\n---\\n{df['code']}\"\n",
    "    )\n",
    "    print(pathlib.Path('docs', \"_pages _posts\".split()[post], file.stem).with_suffix('.md'))"
   ]
  },
  {
   "cell_type": "code",
   "execution_count": null,
   "metadata": {},
   "outputs": [],
   "source": [
    "!ls docs"
   ]
  }
 ],
 "metadata": {
  "kernelspec": {
   "display_name": "Python 3",
   "language": "python",
   "name": "python3"
  },
  "language_info": {
   "codemirror_mode": {
    "name": "ipython",
    "version": 3
   },
   "file_extension": ".py",
   "mimetype": "text/x-python",
   "name": "python",
   "nbconvert_exporter": "python",
   "pygments_lexer": "ipython3",
   "version": "3.7.3"
  }
 },
 "nbformat": 4,
 "nbformat_minor": 4
}
